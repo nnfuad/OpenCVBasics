{
 "cells": [
  {
   "cell_type": "code",
   "execution_count": 4,
   "id": "d0cf58f0-791d-45b5-a100-e9b8e0701c46",
   "metadata": {},
   "outputs": [],
   "source": [
    "import cv2"
   ]
  },
  {
   "cell_type": "code",
   "execution_count": 5,
   "id": "0b37d53d-cf74-4e21-b2a1-11eebd86a6ba",
   "metadata": {},
   "outputs": [
    {
     "data": {
      "text/plain": [
       "32"
      ]
     },
     "execution_count": 5,
     "metadata": {},
     "output_type": "execute_result"
    }
   ],
   "source": [
    "img = cv2.imread(\"assets/centerdiv.jpg\") #image read\n",
    "cv2.imshow(\"Lesson 1\", img) #image showing\n",
    "cv2.waitKey(0) # press anykey to close img window - 0\n",
    "#cv2.destroyWindow() #closes 1 window#\n",
    "#cv2.destroyAllWindows()"
   ]
  },
  {
   "cell_type": "code",
   "execution_count": null,
   "id": "ba1f9c9a-3118-45d5-89c3-f1b73756a9bf",
   "metadata": {},
   "outputs": [],
   "source": []
  }
 ],
 "metadata": {
  "kernelspec": {
   "display_name": "Python [conda env:base] *",
   "language": "python",
   "name": "conda-base-py"
  },
  "language_info": {
   "codemirror_mode": {
    "name": "ipython",
    "version": 3
   },
   "file_extension": ".py",
   "mimetype": "text/x-python",
   "name": "python",
   "nbconvert_exporter": "python",
   "pygments_lexer": "ipython3",
   "version": "3.12.7"
  }
 },
 "nbformat": 4,
 "nbformat_minor": 5
}
