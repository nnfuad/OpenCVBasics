{
 "cells": [
  {
   "cell_type": "code",
   "execution_count": 1,
   "id": "d0cf58f0-791d-45b5-a100-e9b8e0701c46",
   "metadata": {},
   "outputs": [],
   "source": [
    "import cv2\n",
    "import os\n",
    "import numpy as np"
   ]
  },
  {
   "cell_type": "code",
   "execution_count": 2,
   "id": "0b37d53d-cf74-4e21-b2a1-11eebd86a6ba",
   "metadata": {},
   "outputs": [
    {
     "data": {
      "text/plain": [
       "3"
      ]
     },
     "execution_count": 2,
     "metadata": {},
     "output_type": "execute_result"
    }
   ],
   "source": [
    "img = cv2.imread(\"assets/centerdiv.jpg\") #image read\n",
    "cv2.imshow(\"Lesson 1\", img) #image showing\n",
    "cv2.waitKey(0) # press anykey to close img window - 0\n",
    "#cv2.destroyWindow() #closes 1 window#\n",
    "#cv2.destroyAllWindows()"
   ]
  },
  {
   "cell_type": "code",
   "execution_count": 3,
   "id": "ba1f9c9a-3118-45d5-89c3-f1b73756a9bf",
   "metadata": {},
   "outputs": [],
   "source": [
    "img_hor = cv2.imread(\"/Users/nurnafisfuad/Downloads/Website_ECExchange-main/img/header_logo.png\")\n",
    "img_hor = cv2.resize(img_hor,(200,300))\n",
    "img_hor = np.hstack((img_hor,img_hor))\n",
    "cv2.imshow(\"hor img\",img_hor)\n",
    "cv2.waitKey(1000)\n",
    "cv2.destroyAllWindows()\n"
   ]
  },
  {
   "cell_type": "code",
   "execution_count": 4,
   "id": "877871cd-8da5-47b8-8b84-d10df940edd1",
   "metadata": {},
   "outputs": [
    {
     "data": {
      "text/plain": [
       "['ece22Cover.jpeg',\n",
       " 'event6.jpeg',\n",
       " 'ecePhoto.jpeg',\n",
       " 'eceLogo.jpeg',\n",
       " '.DS_Store',\n",
       " 'eceOffice.jpeg',\n",
       " 'even1.jpeg',\n",
       " 'event4.jpg',\n",
       " 'down.png',\n",
       " 'header_logo.png',\n",
       " 'event2.jpeg',\n",
       " 'event3.jpeg',\n",
       " 'event5.jpeg']"
      ]
     },
     "execution_count": 4,
     "metadata": {},
     "output_type": "execute_result"
    }
   ],
   "source": [
    "list1 = os.listdir(\"/Users/nurnafisfuad/Downloads/Website_ECExchange-main/img\")\n",
    "list1"
   ]
  },
  {
   "cell_type": "code",
   "execution_count": null,
   "id": "41ae644b-4615-472f-8620-de0a7c29b122",
   "metadata": {},
   "outputs": [],
   "source": [
    "for i in list1:\n",
    "    path = \"//Users//nurnafisfuad//Downloads//Website_ECExchange-main//img\"\n",
    "    img_name = path + \"//\" + i\n",
    "    img =  cv2.imread(img_name)\n",
    "    img = cv2.resize(img,(100,200))\n",
    "    cv2.imshow(\"Lesson1\", img)\n",
    "    cv2.waitKey(0)\n",
    "cv2.destroyAllWindows()"
   ]
  },
  {
   "cell_type": "code",
   "execution_count": null,
   "id": "30272abf-5a00-4abc-a348-06aed0a7dc0d",
   "metadata": {},
   "outputs": [],
   "source": []
  }
 ],
 "metadata": {
  "kernelspec": {
   "display_name": "Python [conda env:base] *",
   "language": "python",
   "name": "conda-base-py"
  },
  "language_info": {
   "codemirror_mode": {
    "name": "ipython",
    "version": 3
   },
   "file_extension": ".py",
   "mimetype": "text/x-python",
   "name": "python",
   "nbconvert_exporter": "python",
   "pygments_lexer": "ipython3",
   "version": "3.12.7"
  }
 },
 "nbformat": 4,
 "nbformat_minor": 5
}
